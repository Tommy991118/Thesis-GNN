{
 "cells": [
  {
   "attachments": {},
   "cell_type": "markdown",
   "metadata": {},
   "source": [
    "## Code van Margot - coraml"
   ]
  },
  {
   "cell_type": "code",
   "execution_count": null,
   "metadata": {},
   "outputs": [],
   "source": [
    "import networkx as nx\n",
    "# version 2.3"
   ]
  },
  {
   "cell_type": "code",
   "execution_count": 2,
   "metadata": {},
   "outputs": [],
   "source": [
    "\n",
    "import numpy as np\n",
    "coraml = np.load('data/cora_ml/cora_ml_train.npz')"
   ]
  },
  {
   "cell_type": "code",
   "execution_count": 5,
   "metadata": {},
   "outputs": [
    {
     "data": {
      "text/plain": [
       "array([0.08539068, 0.10902652, 0.1756043 , ..., 0.13603258, 0.45228662,\n",
       "       0.1460117 ])"
      ]
     },
     "execution_count": 5,
     "metadata": {},
     "output_type": "execute_result"
    }
   ],
   "source": [
    "coraml[\"attr_data\"]\n",
    "#le"
   ]
  },
  {
   "cell_type": "code",
   "execution_count": 49,
   "metadata": {},
   "outputs": [
    {
     "name": "stdout",
     "output_type": "stream",
     "text": [
      "adj_data\n",
      "(7574,)\n",
      "adj_indices\n",
      "(7574,)\n",
      "adj_indptr\n",
      "(2996,)\n",
      "adj_shape\n",
      "(2,)\n",
      "attr_data\n",
      "(151171,)\n",
      "attr_indices\n",
      "(151171,)\n",
      "attr_indptr\n",
      "(2996,)\n",
      "attr_shape\n",
      "(2,)\n",
      "labels\n",
      "(2995,)\n",
      "val_edges\n",
      "(1684, 2)\n",
      "val_ground_truth\n",
      "(1684,)\n",
      "test_edges\n",
      "(1684, 2)\n",
      "test_ground_truth\n",
      "(1684,)\n"
     ]
    }
   ],
   "source": [
    "for k in coraml.files:\n",
    "    print(k)\n",
    "    print(coraml[k].shape)"
   ]
  },
  {
   "cell_type": "code",
   "execution_count": 261,
   "metadata": {},
   "outputs": [
    {
     "data": {
      "text/plain": [
       "array([     0,     85,    133, ..., 151103, 151138, 151171])"
      ]
     },
     "execution_count": 261,
     "metadata": {},
     "output_type": "execute_result"
    }
   ],
   "source": [
    "coraml['attr_indptr']"
   ]
  },
  {
   "cell_type": "code",
   "execution_count": 263,
   "metadata": {},
   "outputs": [
    {
     "data": {
      "text/plain": [
       "array([1421, 1392, 2282, ...,  947, 1789,  951])"
      ]
     },
     "execution_count": 263,
     "metadata": {},
     "output_type": "execute_result"
    }
   ],
   "source": [
    "coraml['attr_indices']"
   ]
  },
  {
   "cell_type": "code",
   "execution_count": null,
   "metadata": {},
   "outputs": [
    {
     "ename": "",
     "evalue": "",
     "output_type": "error",
     "traceback": [
      "\u001b[1;31mFailed to start the Kernel. \n",
      "\u001b[1;31mUnable to start Kernel 'myenv (Python 3.6.13)' due to connection timeout. \n",
      "\u001b[1;31mView Jupyter <a href='command:jupyter.viewOutput'>log</a> for further details."
     ]
    }
   ],
   "source": [
    "coraml['adj_shape']"
   ]
  },
  {
   "cell_type": "code",
   "execution_count": null,
   "metadata": {},
   "outputs": [
    {
     "ename": "",
     "evalue": "",
     "output_type": "error",
     "traceback": [
      "\u001b[1;31mFailed to start the Kernel. \n",
      "\u001b[1;31mUnable to start Kernel 'myenv (Python 3.6.13)' due to connection timeout. \n",
      "\u001b[1;31mView Jupyter <a href='command:jupyter.viewOutput'>log</a> for further details."
     ]
    }
   ],
   "source": [
    "coraml['adj_indptr']"
   ]
  },
  {
   "cell_type": "code",
   "execution_count": null,
   "metadata": {},
   "outputs": [
    {
     "ename": "",
     "evalue": "",
     "output_type": "error",
     "traceback": [
      "\u001b[1;31mFailed to start the Kernel. \n",
      "\u001b[1;31mUnable to start Kernel 'myenv (Python 3.6.13)' due to connection timeout. \n",
      "\u001b[1;31mView Jupyter <a href='command:jupyter.viewOutput'>log</a> for further details."
     ]
    }
   ],
   "source": [
    "len(coraml['adj_indptr'])"
   ]
  },
  {
   "cell_type": "code",
   "execution_count": 151,
   "metadata": {},
   "outputs": [
    {
     "data": {
      "text/plain": [
       "array([2995, 2879])"
      ]
     },
     "execution_count": 151,
     "metadata": {},
     "output_type": "execute_result"
    }
   ],
   "source": [
    "coraml['attr_shape']"
   ]
  },
  {
   "cell_type": "code",
   "execution_count": 167,
   "metadata": {},
   "outputs": [
    {
     "data": {
      "text/plain": [
       "(2996,)"
      ]
     },
     "execution_count": 167,
     "metadata": {},
     "output_type": "execute_result"
    }
   ],
   "source": [
    "coraml['attr_indptr'].shape"
   ]
  },
  {
   "cell_type": "code",
   "execution_count": 166,
   "metadata": {},
   "outputs": [
    {
     "data": {
      "text/plain": [
       "2996"
      ]
     },
     "execution_count": 166,
     "metadata": {},
     "output_type": "execute_result"
    }
   ],
   "source": [
    "len(coraml['attr_indptr'])"
   ]
  },
  {
   "cell_type": "code",
   "execution_count": 150,
   "metadata": {},
   "outputs": [
    {
     "data": {
      "text/plain": [
       "array([     0,     85,    133, ..., 151103, 151138, 151171])"
      ]
     },
     "execution_count": 150,
     "metadata": {},
     "output_type": "execute_result"
    }
   ],
   "source": [
    "coraml['attr_indptr']"
   ]
  },
  {
   "cell_type": "code",
   "execution_count": 147,
   "metadata": {},
   "outputs": [],
   "source": [
    "from scipy.sparse import csr_matrix\n",
    "A = csr_matrix((coraml['adj_data'], coraml['adj_indices'], coraml['adj_indptr']))"
   ]
  },
  {
   "cell_type": "code",
   "execution_count": 16,
   "metadata": {},
   "outputs": [
    {
     "data": {
      "text/plain": [
       "<2995x2995 sparse matrix of type '<class 'numpy.float64'>'\n",
       "\twith 7574 stored elements in Compressed Sparse Row format>"
      ]
     },
     "execution_count": 16,
     "metadata": {},
     "output_type": "execute_result"
    }
   ],
   "source": [
    "A"
   ]
  },
  {
   "cell_type": "code",
   "execution_count": 148,
   "metadata": {},
   "outputs": [],
   "source": [
    "G = nx.from_scipy_sparse_matrix(A)"
   ]
  },
  {
   "cell_type": "code",
   "execution_count": 149,
   "metadata": {},
   "outputs": [
    {
     "data": {
      "text/plain": [
       "2995"
      ]
     },
     "execution_count": 149,
     "metadata": {},
     "output_type": "execute_result"
    }
   ],
   "source": [
    "len(G.nodes())"
   ]
  },
  {
   "cell_type": "code",
   "execution_count": 10,
   "metadata": {},
   "outputs": [
    {
     "name": "stdout",
     "output_type": "stream",
     "text": [
      "Name: \n",
      "Type: Graph\n",
      "Number of nodes: 0\n",
      "Number of edges: 0\n",
      "\n"
     ]
    }
   ],
   "source": [
    "print(nx.info(G))"
   ]
  },
  {
   "cell_type": "code",
   "execution_count": 15,
   "metadata": {},
   "outputs": [
    {
     "data": {
      "image/png": "[encoded data removed]",
      "text/plain": [
       "<Figure size 432x288 with 1 Axes>"
      ]
     },
     "metadata": {},
     "output_type": "display_data"
    }
   ],
   "source": [
    "nx.draw(G, node_size=2)\n",
    "#matplotlib version 2.2.3 required"
   ]
  },
  {
   "cell_type": "code",
   "execution_count": null,
   "metadata": {},
   "outputs": [],
   "source": [
    "adj_matrix = nx.adjacency_matrix(G)\n",
    "A = sp.csr_matrix(adj_matrix)"
   ]
  },
  {
   "cell_type": "code",
   "execution_count": 11,
   "metadata": {},
   "outputs": [
    {
     "data": {
      "text/plain": [
       "array([0.08539068, 0.10902652, 0.1756043 , ..., 0.13603258, 0.45228662,\n",
       "       0.1460117 ])"
      ]
     },
     "execution_count": 11,
     "metadata": {},
     "output_type": "execute_result"
    }
   ],
   "source": [
    "coraml[\"attr_data\"]"
   ]
  },
  {
   "cell_type": "code",
   "execution_count": 14,
   "metadata": {},
   "outputs": [
    {
     "data": {
      "text/plain": [
       "array([1421, 1392, 2282, ...,  947, 1789,  951])"
      ]
     },
     "execution_count": 14,
     "metadata": {},
     "output_type": "execute_result"
    }
   ],
   "source": [
    "coraml[\"attr_indices\"]"
   ]
  },
  {
   "cell_type": "code",
   "execution_count": 13,
   "metadata": {},
   "outputs": [
    {
     "data": {
      "text/plain": [
       "array([     0,     85,    133, ..., 151103, 151138, 151171])"
      ]
     },
     "execution_count": 13,
     "metadata": {},
     "output_type": "execute_result"
    }
   ],
   "source": [
    "coraml[\"attr_indptr\"]"
   ]
  },
  {
   "cell_type": "code",
   "execution_count": 12,
   "metadata": {},
   "outputs": [
    {
     "data": {
      "text/plain": [
       "array([2995, 2879])"
      ]
     },
     "execution_count": 12,
     "metadata": {},
     "output_type": "execute_result"
    }
   ],
   "source": [
    "coraml[\"attr_shape\"]"
   ]
  },
  {
   "cell_type": "code",
   "execution_count": 8,
   "metadata": {},
   "outputs": [],
   "source": [
    "np.savez('data/cora_ml/test.npz', adj_data=A.data, adj_indices=A.indices, adj_indptr=A.indptr,\n",
    "         adj_shape=A.shape, attr_data=coraml[\"attr_data\"], attr_indices=coraml[\"attr_indices\"], attr_indptr=coraml[\"attr_indptr\"],\n",
    "         attr_shape=coraml[\"attr_shape\"], labels=coraml[\"labels\"])"
   ]
  },
  {
   "attachments": {},
   "cell_type": "markdown",
   "metadata": {},
   "source": [
    "## DUMMY DATA"
   ]
  },
  {
   "cell_type": "code",
   "execution_count": 17,
   "metadata": {},
   "outputs": [],
   "source": [
    "import networkx as nx\n",
    "import numpy as np\n",
    "from scipy.sparse import csr_matrix\n",
    "import random\n",
    "from random import randint"
   ]
  },
  {
   "cell_type": "code",
   "execution_count": 10,
   "metadata": {},
   "outputs": [
    {
     "data": {
      "image/png": "[encoded data removed]",
      "text/plain": [
       "<Figure size 432x288 with 1 Axes>"
      ]
     },
     "metadata": {},
     "output_type": "display_data"
    }
   ],
   "source": [
    "# Create own Graph G, add features to this and then extract an adjacency matrix and a feature matrix from it.\n",
    "G = nx.Graph()\n",
    "# add nodes with attributes\n",
    "# G.add_node(1, latitude=40.71427, longitude=-74.00597, size=1000, age=10, num_rooms=4)\n",
    "# G.add_node(2, latitude=40.72222, longitude=-73.98755, size=1500, age=5, num_rooms=3)\n",
    "# G.add_node(3, latitude=40.75798, longitude=-73.98554, size=2000, age=20, num_rooms=5)\n",
    "# G.add_node(4, latitude=40.74005, longitude=-73.98700, size=1200, age=15, num_rooms=2)\n",
    "\n",
    "# add edges between nodes\n",
    "# G.add_edge(1, 2)\n",
    "# G.add_edge(1, 3)\n",
    "# G.add_edge(2, 3)\n",
    "# G.add_edge(2, 4)\n",
    "# G.add_edge(2, 4)\n",
    "\n",
    "numpy_array = []\n",
    "\n",
    "# Another way of randomly creating nodes and edges.\n",
    "# for i in range(100):\n",
    "#     lat = randint(0, 90)\n",
    "#     lon = randint(-180, 180)\n",
    "#     size = randint(500, 2500)\n",
    "#     age = randint(1, 30)\n",
    "#     num_rooms = randint(1, 5)\n",
    "#     G.add_node(i, latitude=lat, longitude=lon, size=size, age=age, num_rooms=num_rooms)\n",
    "    \n",
    "#     array = [size, age, num_rooms]\n",
    "#     numpy_array.append(array)\n",
    "\n",
    "# Another way of randomly creating nodes and edges.\n",
    "for i in range(100):\n",
    "    lat = randint(0, 90)\n",
    "    lon = randint(-180, 180)\n",
    "    size = random.random()\n",
    "    age = random.random()\n",
    "    num_rooms = random.random()\n",
    "    G.add_node(i, latitude=lat, longitude=lon, size=size, age=age, num_rooms=num_rooms)\n",
    "    \n",
    "    array = [size, age, num_rooms]\n",
    "    numpy_array.append(array)\n",
    "\n",
    "for i in range(400):\n",
    "    u = random.choice(list(G.nodes))\n",
    "    v = random.choice(list(G.nodes))\n",
    "    G.add_edge(u, v)\n",
    "\n",
    "nx.draw(G, node_size = 10)"
   ]
  },
  {
   "cell_type": "code",
   "execution_count": 11,
   "metadata": {},
   "outputs": [
    {
     "data": {
      "text/plain": [
       "[[0.2711927743373199, 0.06621285974552016, 0.08047424393728342],\n",
       " [0.4635565629615269, 0.9472432924474944, 0.6515450437532762],\n",
       " [0.40236546090110104, 0.27895928705431206, 0.7521249454445108],\n",
       " [0.6726207969410243, 0.5735685931370761, 0.24796628013758026],\n",
       " [0.24089071908594273, 0.2984373448641263, 0.580356101933648],\n",
       " [0.43880932503737025, 0.31767629186885404, 0.20726779181982347],\n",
       " [0.8942154923312641, 0.6045453148128517, 0.022401130736859898],\n",
       " [0.2932582094649804, 0.28688161299028325, 0.14773116895078653],\n",
       " [0.09924895111969578, 0.2512609725347946, 0.059448379557786035],\n",
       " [0.09332586854153557, 0.2947368377248336, 0.5079677927167974],\n",
       " [0.3830126784946688, 0.9268961937067799, 0.4550723156996571],\n",
       " [0.29314602806987855, 0.6528490024116267, 0.4721982215783592],\n",
       " [0.2479839824145108, 0.6102392971822446, 0.793843137841112],\n",
       " [0.28195354885919144, 0.5200667485553572, 0.8659530958620939],\n",
       " [0.5319417192516747, 0.4981225323602745, 0.766482388430511],\n",
       " [0.034946304934658445, 0.33340699686305597, 0.29216828412676354],\n",
       " [0.6809944517003921, 0.759238415485901, 0.5515142124514064],\n",
       " [0.307978766998788, 0.6536490812558029, 0.11356669393769292],\n",
       " [0.18140876804186523, 0.7927306540522409, 0.2905183753953102],\n",
       " [0.8606404663387038, 0.6303814351683056, 0.4615980008313322],\n",
       " [0.5138061861084746, 0.3126125351109377, 0.9488409811086252],\n",
       " [0.7804972192162121, 0.2682491867085942, 0.3795501338994145],\n",
       " [0.5232036627869722, 0.8093515181391899, 0.5266447217125634],\n",
       " [0.7865136134122485, 0.7431038765055696, 0.9713789284838731],\n",
       " [0.9639764541326407, 0.008459510237273205, 0.31375387385610265],\n",
       " [0.7548507797732069, 0.3256355555355702, 0.7199612849468321],\n",
       " [0.22394808694047375, 0.720904143287009, 0.8787732335446535],\n",
       " [0.3658507219903483, 0.6002490439025596, 0.16734328108823793],\n",
       " [0.22810528944336472, 0.34565325299398697, 0.5956270837756794],\n",
       " [0.6591550891906863, 0.4307801336436443, 0.27500843283529863],\n",
       " [0.4889399299849425, 0.04583002426128313, 0.4223141422126212],\n",
       " [0.13466323751720943, 0.2181971437901663, 0.7858032120705241],\n",
       " [0.6463412168449291, 0.15848244118242816, 0.02019407666777373],\n",
       " [0.5134354088537231, 0.8619825639495174, 0.10137259981457925],\n",
       " [0.1572727152374518, 0.5724383446335423, 0.16018105361412216],\n",
       " [0.2556880553070786, 0.5139050337290809, 0.057642745448492794],\n",
       " [0.2270776728462206, 0.477740112781197, 0.6981688433680532],\n",
       " [0.8811564670904, 0.5907528064707018, 0.6070759003002003],\n",
       " [0.9947300720612379, 0.03505952116741573, 0.16798913090097656],\n",
       " [0.6736119541993645, 0.5433611903306803, 0.6043067272723608],\n",
       " [0.8164148019197935, 0.38369895328226555, 0.5709574972082743],\n",
       " [0.2854749097368341, 0.8181580072893867, 0.1488047309869125],\n",
       " [0.19428911886365674, 0.01707641977854324, 0.056165347426985424],\n",
       " [0.9501947913385177, 0.4971153965579246, 0.9812543692419738],\n",
       " [0.5813752605098712, 0.30004297745325825, 0.8809967827340706],\n",
       " [0.753578547308999, 0.5949113287852237, 0.21163475024681144],\n",
       " [0.34065837783543296, 0.6492174302707682, 0.33219631067076905],\n",
       " [0.7007838189147703, 0.8164607237205395, 0.6491523503841171],\n",
       " [0.6579754802016545, 0.8025215627122078, 0.6469763452225973],\n",
       " [0.2522109960616321, 0.6372540675129703, 0.02734214244860822],\n",
       " [0.8785565550349361, 0.3871856702124781, 0.03702284128995703],\n",
       " [0.10374024424548278, 0.029774491913047263, 0.7281808406211745],\n",
       " [0.2944511631710184, 0.27199590458968326, 0.7062964394148159],\n",
       " [0.4690617321576943, 0.9859816222615743, 0.47246743635486876],\n",
       " [0.9510836891366736, 0.6598249166829093, 0.8974616360810027],\n",
       " [0.20269844309184315, 0.970104525713036, 0.49851718422526414],\n",
       " [0.01493110354670213, 0.12090685134655887, 0.41823015419495624],\n",
       " [0.656064677139864, 0.1981358985460795, 0.9693408736846328],\n",
       " [0.5756138334998998, 0.5719138091137465, 0.9221543866250925],\n",
       " [0.662111005822599, 0.6652022038810366, 0.3582699664070943],\n",
       " [0.36023004509900003, 0.9695665717506464, 0.8515611447897428],\n",
       " [0.04292937213834325, 0.08525368907263864, 0.9761596316720532],\n",
       " [0.361192243665599, 0.8380970956540992, 0.283505855906491],\n",
       " [0.5378567956289262, 0.6370793955030799, 0.38784858497379227],\n",
       " [0.7231263842916766, 0.8360823928189602, 0.2552337113082752],\n",
       " [0.5051830917094424, 0.49835850965617756, 0.3245761158068391],\n",
       " [0.9809789645760989, 0.8169992022577098, 0.6947588905635735],\n",
       " [0.4290025782346999, 0.45043483151324826, 0.14279509002573676],\n",
       " [0.8785652275699879, 0.494793034808503, 0.47319922280720395],\n",
       " [0.6659389480610511, 0.7836221171061241, 0.6520530982659073],\n",
       " [0.036992860267895944, 0.8911035920540448, 0.994603317792355],\n",
       " [0.48530657732460236, 0.11093830228143131, 0.8792192952430758],\n",
       " [0.646185811146312, 0.9078960237310508, 0.3711911400902487],\n",
       " [0.2717938258421496, 0.8040243169757766, 0.759146807267529],\n",
       " [0.2879091744715514, 0.3928196167265232, 0.27515441775750415],\n",
       " [0.10156238513078497, 0.5279235499744912, 0.7212710105891331],\n",
       " [0.9245096974883918, 0.17395996491112276, 0.005589893892643083],\n",
       " [0.9527200616556616, 0.21221618133316722, 0.7851369150657033],\n",
       " [0.6709032211065354, 0.21028217513199277, 0.7554070682168781],\n",
       " [0.2923492009946316, 0.855280542401879, 0.12185214441705039],\n",
       " [0.6762930435171884, 0.9344191464208412, 0.2769491865242991],\n",
       " [0.8347658697558431, 0.38376411401222454, 0.45454075890052636],\n",
       " [0.42047506848557825, 0.5919348899933021, 0.19168463901129273],\n",
       " [0.7501238339793825, 0.9308464663211303, 0.8053642038062478],\n",
       " [0.40354758544848846, 0.7898171278201682, 0.2966056760563699],\n",
       " [0.5879945775329738, 0.5422246851614247, 0.054613399620053626],\n",
       " [0.3996278890220516, 0.5316373073596021, 0.6375172134273452],\n",
       " [0.013828429276109167, 0.8877533410737554, 0.5889900141419018],\n",
       " [0.7851756661703257, 0.7963446140351257, 0.9860753052578701],\n",
       " [0.8164619345444442, 0.3151493240865837, 0.7987856514087112],\n",
       " [0.6101464426710606, 0.9486884158589626, 0.9020125866659794],\n",
       " [0.6801522097903074, 0.8349148291566407, 0.48493644275069236],\n",
       " [0.6800507881336408, 0.6391112362071224, 0.1365735634139652],\n",
       " [0.9819464728581384, 0.1567397293793612, 0.472938041315374],\n",
       " [0.19884637608911926, 0.8597523211284925, 0.15385724364915487],\n",
       " [0.912748683340295, 0.5829134042462472, 0.07520908493775791],\n",
       " [0.14602591779655993, 0.9758956260932049, 0.8018991387871947],\n",
       " [0.24513896385541922, 0.8091887116374707, 0.5115297120502583],\n",
       " [0.7596476376368136, 0.6326948755393484, 0.054597450023168514],\n",
       " [0.16568825639235607, 0.38529348889757986, 0.5785764369026395]]"
      ]
     },
     "execution_count": 11,
     "metadata": {},
     "output_type": "execute_result"
    }
   ],
   "source": [
    "numpy_array"
   ]
  },
  {
   "cell_type": "code",
   "execution_count": 18,
   "metadata": {},
   "outputs": [
    {
     "data": {
      "text/plain": [
       "<100x3 sparse matrix of type '<class 'numpy.float32'>'\n",
       "\twith 300 stored elements in Compressed Sparse Row format>"
      ]
     },
     "execution_count": 18,
     "metadata": {},
     "output_type": "execute_result"
    }
   ],
   "source": [
    "attr_matrix = csr_matrix(numpy_array).astype(\"float32\")\n",
    "attr_matrix"
   ]
  },
  {
   "cell_type": "code",
   "execution_count": 19,
   "metadata": {},
   "outputs": [
    {
     "data": {
      "text/plain": [
       "array([0.2711928 , 0.06621286, 0.08047424, 0.46355656, 0.9472433 ,\n",
       "       0.65154505, 0.40236545, 0.27895927, 0.75212497, 0.6726208 ,\n",
       "       0.5735686 , 0.24796627, 0.24089073, 0.29843736, 0.5803561 ,\n",
       "       0.43880934, 0.3176763 , 0.20726779, 0.89421546, 0.6045453 ,\n",
       "       0.02240113, 0.29325822, 0.28688163, 0.14773117, 0.09924895,\n",
       "       0.25126097, 0.05944838, 0.09332587, 0.29473683, 0.50796777,\n",
       "       0.38301268, 0.9268962 , 0.4550723 , 0.293146  , 0.652849  ,\n",
       "       0.47219822, 0.24798398, 0.6102393 , 0.79384315, 0.28195354,\n",
       "       0.52006674, 0.8659531 , 0.5319417 , 0.49812254, 0.7664824 ,\n",
       "       0.0349463 , 0.33340698, 0.2921683 , 0.68099445, 0.7592384 ,\n",
       "       0.5515142 , 0.30797878, 0.6536491 , 0.1135667 , 0.18140876,\n",
       "       0.7927306 , 0.29051837, 0.86064047, 0.63038146, 0.461598  ,\n",
       "       0.51380616, 0.31261253, 0.948841  , 0.7804972 , 0.26824918,\n",
       "       0.37955013, 0.5232037 , 0.8093515 , 0.5266447 , 0.7865136 ,\n",
       "       0.74310386, 0.9713789 , 0.96397644, 0.00845951, 0.31375387,\n",
       "       0.7548508 , 0.32563555, 0.7199613 , 0.22394809, 0.7209042 ,\n",
       "       0.8787732 , 0.36585072, 0.60024905, 0.16734327, 0.22810529,\n",
       "       0.34565327, 0.59562707, 0.6591551 , 0.43078014, 0.27500844,\n",
       "       0.48893994, 0.04583002, 0.42231414, 0.13466324, 0.21819714,\n",
       "       0.7858032 , 0.6463412 , 0.15848245, 0.02019408, 0.5134354 ,\n",
       "       0.8619826 , 0.1013726 , 0.15727271, 0.57243836, 0.16018106,\n",
       "       0.25568804, 0.51390505, 0.05764275, 0.22707768, 0.4777401 ,\n",
       "       0.6981688 , 0.88115644, 0.5907528 , 0.6070759 , 0.99473006,\n",
       "       0.03505952, 0.16798913, 0.67361194, 0.5433612 , 0.6043067 ,\n",
       "       0.8164148 , 0.38369894, 0.5709575 , 0.2854749 , 0.81815803,\n",
       "       0.14880472, 0.19428912, 0.01707642, 0.05616535, 0.9501948 ,\n",
       "       0.4971154 , 0.9812544 , 0.58137524, 0.300043  , 0.88099676,\n",
       "       0.75357854, 0.59491134, 0.21163476, 0.34065837, 0.6492174 ,\n",
       "       0.33219633, 0.7007838 , 0.8164607 , 0.64915234, 0.6579755 ,\n",
       "       0.8025216 , 0.64697635, 0.252211  , 0.63725406, 0.02734214,\n",
       "       0.87855655, 0.38718566, 0.03702284, 0.10374025, 0.02977449,\n",
       "       0.7281808 , 0.29445118, 0.2719959 , 0.70629644, 0.46906173,\n",
       "       0.98598164, 0.47246742, 0.95108366, 0.6598249 , 0.89746165,\n",
       "       0.20269844, 0.9701045 , 0.4985172 , 0.0149311 , 0.12090685,\n",
       "       0.41823015, 0.6560647 , 0.1981359 , 0.96934086, 0.57561386,\n",
       "       0.57191384, 0.92215437, 0.662111  , 0.6652022 , 0.35826996,\n",
       "       0.36023006, 0.9695666 , 0.8515611 , 0.04292937, 0.08525369,\n",
       "       0.97615963, 0.36119226, 0.8380971 , 0.28350586, 0.5378568 ,\n",
       "       0.6370794 , 0.3878486 , 0.7231264 , 0.8360824 , 0.2552337 ,\n",
       "       0.5051831 , 0.49835852, 0.3245761 , 0.98097897, 0.8169992 ,\n",
       "       0.6947589 , 0.42900258, 0.45043483, 0.14279509, 0.87856525,\n",
       "       0.49479303, 0.47319922, 0.665939  , 0.78362215, 0.6520531 ,\n",
       "       0.03699286, 0.89110357, 0.99460334, 0.4853066 , 0.1109383 ,\n",
       "       0.8792193 , 0.6461858 , 0.90789604, 0.37119114, 0.2717938 ,\n",
       "       0.80402434, 0.7591468 , 0.28790918, 0.3928196 , 0.2751544 ,\n",
       "       0.10156239, 0.5279235 , 0.72127104, 0.9245097 , 0.17395997,\n",
       "       0.00558989, 0.95272005, 0.21221618, 0.78513694, 0.6709032 ,\n",
       "       0.21028218, 0.7554071 , 0.2923492 , 0.8552805 , 0.12185214,\n",
       "       0.676293  , 0.93441916, 0.2769492 , 0.83476585, 0.38376412,\n",
       "       0.45454076, 0.42047507, 0.5919349 , 0.19168463, 0.75012386,\n",
       "       0.93084645, 0.8053642 , 0.40354759, 0.78981715, 0.29660568,\n",
       "       0.5879946 , 0.5422247 , 0.0546134 , 0.3996279 , 0.5316373 ,\n",
       "       0.6375172 , 0.01382843, 0.88775337, 0.58899003, 0.7851757 ,\n",
       "       0.79634464, 0.9860753 , 0.8164619 , 0.31514934, 0.7987856 ,\n",
       "       0.61014646, 0.9486884 , 0.9020126 , 0.68015224, 0.8349148 ,\n",
       "       0.48493645, 0.6800508 , 0.6391112 , 0.13657357, 0.98194647,\n",
       "       0.15673973, 0.47293803, 0.19884637, 0.8597523 , 0.15385725,\n",
       "       0.9127487 , 0.5829134 , 0.07520909, 0.14602591, 0.97589564,\n",
       "       0.80189914, 0.24513896, 0.8091887 , 0.5115297 , 0.75964767,\n",
       "       0.6326949 , 0.05459745, 0.16568826, 0.38529348, 0.57857645],\n",
       "      dtype=float32)"
      ]
     },
     "execution_count": 19,
     "metadata": {},
     "output_type": "execute_result"
    }
   ],
   "source": [
    "attr_matrix.data"
   ]
  },
  {
   "cell_type": "code",
   "execution_count": 20,
   "metadata": {},
   "outputs": [],
   "source": [
    "G.remove_edges_from(nx.selfloop_edges(G))"
   ]
  },
  {
   "cell_type": "code",
   "execution_count": 21,
   "metadata": {},
   "outputs": [
    {
     "data": {
      "text/plain": [
       "<100x100 sparse matrix of type '<class 'numpy.float32'>'\n",
       "\twith 754 stored elements in Compressed Sparse Row format>"
      ]
     },
     "execution_count": 21,
     "metadata": {},
     "output_type": "execute_result"
    }
   ],
   "source": [
    "A = nx.to_scipy_sparse_matrix(G).astype(\"float32\")\n",
    "A"
   ]
  },
  {
   "cell_type": "code",
   "execution_count": 22,
   "metadata": {},
   "outputs": [
    {
     "data": {
      "text/plain": [
       "array([1., 1., 1., 1., 1., 1., 1., 1., 1., 1., 1., 1., 1., 1., 1., 1., 1.,\n",
       "       1., 1., 1., 1., 1., 1., 1., 1., 1., 1., 1., 1., 1., 1., 1., 1., 1.,\n",
       "       1., 1., 1., 1., 1., 1., 1., 1., 1., 1., 1., 1., 1., 1., 1., 1., 1.,\n",
       "       1., 1., 1., 1., 1., 1., 1., 1., 1., 1., 1., 1., 1., 1., 1., 1., 1.,\n",
       "       1., 1., 1., 1., 1., 1., 1., 1., 1., 1., 1., 1., 1., 1., 1., 1., 1.,\n",
       "       1., 1., 1., 1., 1., 1., 1., 1., 1., 1., 1., 1., 1., 1., 1., 1., 1.,\n",
       "       1., 1., 1., 1., 1., 1., 1., 1., 1., 1., 1., 1., 1., 1., 1., 1., 1.,\n",
       "       1., 1., 1., 1., 1., 1., 1., 1., 1., 1., 1., 1., 1., 1., 1., 1., 1.,\n",
       "       1., 1., 1., 1., 1., 1., 1., 1., 1., 1., 1., 1., 1., 1., 1., 1., 1.,\n",
       "       1., 1., 1., 1., 1., 1., 1., 1., 1., 1., 1., 1., 1., 1., 1., 1., 1.,\n",
       "       1., 1., 1., 1., 1., 1., 1., 1., 1., 1., 1., 1., 1., 1., 1., 1., 1.,\n",
       "       1., 1., 1., 1., 1., 1., 1., 1., 1., 1., 1., 1., 1., 1., 1., 1., 1.,\n",
       "       1., 1., 1., 1., 1., 1., 1., 1., 1., 1., 1., 1., 1., 1., 1., 1., 1.,\n",
       "       1., 1., 1., 1., 1., 1., 1., 1., 1., 1., 1., 1., 1., 1., 1., 1., 1.,\n",
       "       1., 1., 1., 1., 1., 1., 1., 1., 1., 1., 1., 1., 1., 1., 1., 1., 1.,\n",
       "       1., 1., 1., 1., 1., 1., 1., 1., 1., 1., 1., 1., 1., 1., 1., 1., 1.,\n",
       "       1., 1., 1., 1., 1., 1., 1., 1., 1., 1., 1., 1., 1., 1., 1., 1., 1.,\n",
       "       1., 1., 1., 1., 1., 1., 1., 1., 1., 1., 1., 1., 1., 1., 1., 1., 1.,\n",
       "       1., 1., 1., 1., 1., 1., 1., 1., 1., 1., 1., 1., 1., 1., 1., 1., 1.,\n",
       "       1., 1., 1., 1., 1., 1., 1., 1., 1., 1., 1., 1., 1., 1., 1., 1., 1.,\n",
       "       1., 1., 1., 1., 1., 1., 1., 1., 1., 1., 1., 1., 1., 1., 1., 1., 1.,\n",
       "       1., 1., 1., 1., 1., 1., 1., 1., 1., 1., 1., 1., 1., 1., 1., 1., 1.,\n",
       "       1., 1., 1., 1., 1., 1., 1., 1., 1., 1., 1., 1., 1., 1., 1., 1., 1.,\n",
       "       1., 1., 1., 1., 1., 1., 1., 1., 1., 1., 1., 1., 1., 1., 1., 1., 1.,\n",
       "       1., 1., 1., 1., 1., 1., 1., 1., 1., 1., 1., 1., 1., 1., 1., 1., 1.,\n",
       "       1., 1., 1., 1., 1., 1., 1., 1., 1., 1., 1., 1., 1., 1., 1., 1., 1.,\n",
       "       1., 1., 1., 1., 1., 1., 1., 1., 1., 1., 1., 1., 1., 1., 1., 1., 1.,\n",
       "       1., 1., 1., 1., 1., 1., 1., 1., 1., 1., 1., 1., 1., 1., 1., 1., 1.,\n",
       "       1., 1., 1., 1., 1., 1., 1., 1., 1., 1., 1., 1., 1., 1., 1., 1., 1.,\n",
       "       1., 1., 1., 1., 1., 1., 1., 1., 1., 1., 1., 1., 1., 1., 1., 1., 1.,\n",
       "       1., 1., 1., 1., 1., 1., 1., 1., 1., 1., 1., 1., 1., 1., 1., 1., 1.,\n",
       "       1., 1., 1., 1., 1., 1., 1., 1., 1., 1., 1., 1., 1., 1., 1., 1., 1.,\n",
       "       1., 1., 1., 1., 1., 1., 1., 1., 1., 1., 1., 1., 1., 1., 1., 1., 1.,\n",
       "       1., 1., 1., 1., 1., 1., 1., 1., 1., 1., 1., 1., 1., 1., 1., 1., 1.,\n",
       "       1., 1., 1., 1., 1., 1., 1., 1., 1., 1., 1., 1., 1., 1., 1., 1., 1.,\n",
       "       1., 1., 1., 1., 1., 1., 1., 1., 1., 1., 1., 1., 1., 1., 1., 1., 1.,\n",
       "       1., 1., 1., 1., 1., 1., 1., 1., 1., 1., 1., 1., 1., 1., 1., 1., 1.,\n",
       "       1., 1., 1., 1., 1., 1., 1., 1., 1., 1., 1., 1., 1., 1., 1., 1., 1.,\n",
       "       1., 1., 1., 1., 1., 1., 1., 1., 1., 1., 1., 1., 1., 1., 1., 1., 1.,\n",
       "       1., 1., 1., 1., 1., 1., 1., 1., 1., 1., 1., 1., 1., 1., 1., 1., 1.,\n",
       "       1., 1., 1., 1., 1., 1., 1., 1., 1., 1., 1., 1., 1., 1., 1., 1., 1.,\n",
       "       1., 1., 1., 1., 1., 1., 1., 1., 1., 1., 1., 1., 1., 1., 1., 1., 1.,\n",
       "       1., 1., 1., 1., 1., 1., 1., 1., 1., 1., 1., 1., 1., 1., 1., 1., 1.,\n",
       "       1., 1., 1., 1., 1., 1., 1., 1., 1., 1., 1., 1., 1., 1., 1., 1., 1.,\n",
       "       1., 1., 1., 1., 1., 1.], dtype=float32)"
      ]
     },
     "execution_count": 22,
     "metadata": {},
     "output_type": "execute_result"
    }
   ],
   "source": [
    "A.data"
   ]
  },
  {
   "cell_type": "code",
   "execution_count": 380,
   "metadata": {},
   "outputs": [
    {
     "data": {
      "text/plain": [
       "0.0"
      ]
     },
     "execution_count": 380,
     "metadata": {},
     "output_type": "execute_result"
    }
   ],
   "source": [
    "# Check if there are any self-loops, this is not allowed!\n",
    "A.diagonal().sum()"
   ]
  },
  {
   "cell_type": "code",
   "execution_count": 25,
   "metadata": {},
   "outputs": [
    {
     "data": {
      "text/plain": [
       "[2,\n",
       " 6,\n",
       " 3,\n",
       " 3,\n",
       " 1,\n",
       " 3,\n",
       " 6,\n",
       " 2,\n",
       " 1,\n",
       " 1,\n",
       " 2,\n",
       " 0,\n",
       " 1,\n",
       " 1,\n",
       " 6,\n",
       " 2,\n",
       " 0,\n",
       " 2,\n",
       " 3,\n",
       " 1,\n",
       " 3,\n",
       " 1,\n",
       " 1,\n",
       " 1,\n",
       " 2,\n",
       " 2,\n",
       " 4,\n",
       " 4,\n",
       " 4,\n",
       " 4,\n",
       " 2,\n",
       " 1,\n",
       " 5,\n",
       " 4,\n",
       " 6,\n",
       " 4,\n",
       " 3,\n",
       " 5,\n",
       " 4,\n",
       " 6,\n",
       " 1,\n",
       " 6,\n",
       " 2,\n",
       " 1,\n",
       " 6,\n",
       " 2,\n",
       " 6,\n",
       " 4,\n",
       " 2,\n",
       " 2,\n",
       " 3,\n",
       " 0,\n",
       " 3,\n",
       " 5,\n",
       " 2,\n",
       " 1,\n",
       " 0,\n",
       " 6,\n",
       " 5,\n",
       " 3,\n",
       " 2,\n",
       " 2,\n",
       " 6,\n",
       " 5,\n",
       " 4,\n",
       " 0,\n",
       " 2,\n",
       " 4,\n",
       " 2,\n",
       " 6,\n",
       " 0,\n",
       " 0,\n",
       " 6,\n",
       " 1,\n",
       " 5,\n",
       " 3,\n",
       " 4,\n",
       " 6,\n",
       " 4,\n",
       " 0,\n",
       " 1,\n",
       " 0,\n",
       " 5,\n",
       " 4,\n",
       " 4,\n",
       " 3,\n",
       " 3,\n",
       " 1,\n",
       " 4,\n",
       " 3,\n",
       " 6,\n",
       " 4,\n",
       " 5,\n",
       " 3,\n",
       " 2,\n",
       " 1,\n",
       " 1,\n",
       " 5,\n",
       " 5,\n",
       " 6]"
      ]
     },
     "execution_count": 25,
     "metadata": {},
     "output_type": "execute_result"
    }
   ],
   "source": [
    "labels = []\n",
    "for i in range(len(G.nodes())):\n",
    "    labels.append(randint(0, 6))\n",
    "labels"
   ]
  },
  {
   "cell_type": "code",
   "execution_count": 24,
   "metadata": {},
   "outputs": [],
   "source": [
    "np.savez('data/cora_ml/FINALEDUMMYDATASET.npz', edges = G.edges, adj_data=A.data, adj_indices=A.indices, adj_indptr=A.indptr,\n",
    "         adj_shape=A.shape, attr_data=attr_matrix.data, attr_indices=attr_matrix.indices, attr_indptr=attr_matrix.indptr,\n",
    "         attr_shape=attr_matrix.shape, labels=labels)"
   ]
  },
  {
   "cell_type": "code",
   "execution_count": 350,
   "metadata": {},
   "outputs": [],
   "source": [
    "# np.savez('data/cora_ml/FINALEDUMMYDATASET1.npz', edges = G.edges, adj_data1=A.data, adj_indices1=A.indices, adj_indptr1=A.indptr,\n",
    "#          adj_shape1=A.shape, attr_data1=attr_matrix.data, attr_indices1=attr_matrix.indices, attr_indptr1=attr_matrix.indptr,\n",
    "#          attr_shape1=attr_matrix.shape, labels=labels)\n",
    "# np.savez('data/cora_ml/FINALEDUMMYDATASET2.npz', edges = G.edges, adj_data2=A.data, adj_indices2=A.indices, adj_indptr2=A.indptr,\n",
    "#          adj_shape2=A.shape, attr_data2=attr_matrix.data, attr_indices2=attr_matrix.indices, attr_indptr2=attr_matrix.indptr,\n",
    "#          attr_shape2=attr_matrix.shape, labels=labels)\n",
    "# np.savez('data/cora_ml/FINALEDUMMYDATASET3.npz', edges = G.edges, adj_data3=A.data, adj_indices3=A.indices, adj_indptr3=A.indptr,\n",
    "#          adj_shape3=A.shape, attr_data3=attr_matrix.data, attr_indices3=attr_matrix.indices, attr_indptr3=attr_matrix.indptr,\n",
    "#          attr_shape3=attr_matrix.shape, labels=labels)\n",
    "# np.savez('data/cora_ml/FINALEDUMMYDATASET4.npz', edges = G.edges, adj_data4=A.data, adj_indices4=A.indices, adj_indptr4=A.indptr,\n",
    "#          adj_shape4=A.shape, attr_data4=attr_matrix.data, attr_indices4=attr_matrix.indices, attr_indptr4=attr_matrix.indptr,\n",
    "#          attr_shape4=attr_matrix.shape, labels=labels)\n",
    "# np.savez('data/cora_ml/FINALEDUMMYDATASET5.npz', edges = G.edges, adj_data5=A.data, adj_indices5=A.indices, adj_indptr5=A.indptr,\n",
    "#          adj_shape5=A.shape, attr_data5=attr_matrix.data, attr_indices5=attr_matrix.indices, attr_indptr5=attr_matrix.indptr,\n",
    "#          attr_shape5=attr_matrix.shape, labels=labels)"
   ]
  },
  {
   "attachments": {},
   "cell_type": "markdown",
   "metadata": {},
   "source": [
    "## NIET KIJKEN"
   ]
  },
  {
   "cell_type": "code",
   "execution_count": 272,
   "metadata": {},
   "outputs": [
    {
     "ename": "TypeError",
     "evalue": "get_node_attributes() missing 1 required positional argument: 'name'",
     "output_type": "error",
     "traceback": [
      "\u001b[1;31m---------------------------------------------------------------------------\u001b[0m",
      "\u001b[1;31mTypeError\u001b[0m                                 Traceback (most recent call last)",
      "\u001b[1;32m<ipython-input-272-91844e0e9e4f>\u001b[0m in \u001b[0;36m<module>\u001b[1;34m\u001b[0m\n\u001b[1;32m----> 1\u001b[1;33m \u001b[0mfazepiofjuezoip\u001b[0m \u001b[1;33m=\u001b[0m \u001b[0mnx\u001b[0m\u001b[1;33m.\u001b[0m\u001b[0mget_node_attributes\u001b[0m\u001b[1;33m(\u001b[0m\u001b[0mG\u001b[0m\u001b[1;33m)\u001b[0m\u001b[1;33m\u001b[0m\u001b[1;33m\u001b[0m\u001b[0m\n\u001b[0m\u001b[0;32m      2\u001b[0m \u001b[0mfazepiofjuezoip\u001b[0m\u001b[1;33m\u001b[0m\u001b[1;33m\u001b[0m\u001b[0m\n",
      "\u001b[1;31mTypeError\u001b[0m: get_node_attributes() missing 1 required positional argument: 'name'"
     ]
    }
   ],
   "source": [
    "fazepiofjuezoip = nx.get_node_attributes(G)\n",
    "fazepiofjuezoip"
   ]
  },
  {
   "cell_type": "code",
   "execution_count": 269,
   "metadata": {},
   "outputs": [
    {
     "name": "stdout",
     "output_type": "stream",
     "text": [
      "sizes:  1838  --- ages:  1 ---- num_rooms:  1\n"
     ]
    }
   ],
   "source": [
    "node_size = nx.get_node_attributes(G, \"size\")\n",
    "node_age = nx.get_node_attributes(G, \"age\")\n",
    "node_numrooms = nx.get_node_attributes(G, \"num_rooms\")\n",
    "\n",
    "sizes = np.array(list(node_size.values()))\n",
    "ages = np.array(list(node_age.values()))\n",
    "num_rooms = np.array(list(node_numrooms.values()))\n",
    "\n",
    "print(\"sizes: \", sizes[0], \" --- ages: \", ages[0], \"---- num_rooms: \", num_rooms[0])"
   ]
  },
  {
   "cell_type": "code",
   "execution_count": 270,
   "metadata": {},
   "outputs": [
    {
     "name": "stdout",
     "output_type": "stream",
     "text": [
      "[{0: 1838, 1: 897, 2: 1615, 3: 1423, 4: 1813, 5: 1115, 6: 2156, 7: 1833, 8: 2310, 9: 1800, 10: 717, 11: 1169, 12: 1949, 13: 1166, 14: 1288, 15: 571, 16: 1333, 17: 1121, 18: 2411, 19: 526, 20: 2226, 21: 1055, 22: 691, 23: 1397, 24: 558, 25: 643, 26: 1488, 27: 2150, 28: 1939, 29: 1025, 30: 2400, 31: 602, 32: 850, 33: 1375, 34: 1652, 35: 1362, 36: 2250, 37: 2185, 38: 2375, 39: 678, 40: 1044, 41: 1117, 42: 744, 43: 1058, 44: 1155, 45: 557, 46: 1226, 47: 1417, 48: 817, 49: 2499, 50: 1978, 51: 631, 52: 2252, 53: 973, 54: 2397, 55: 1011, 56: 659, 57: 2348, 58: 1011, 59: 2453, 60: 1025, 61: 1097, 62: 2022, 63: 848, 64: 2297, 65: 1000, 66: 1718, 67: 2015, 68: 717, 69: 966, 70: 1784, 71: 742, 72: 1801, 73: 2221, 74: 2364, 75: 1575, 76: 2465, 77: 876, 78: 2243, 79: 1577, 80: 1091, 81: 2039, 82: 1836, 83: 1702, 84: 686, 85: 1786, 86: 2302, 87: 1583, 88: 1442, 89: 2077, 90: 1454, 91: 2496, 92: 595, 93: 1503, 94: 1222, 95: 2452, 96: 2384, 97: 2094, 98: 1499, 99: 742, 100: 2170, 101: 1028, 102: 513, 103: 1255, 104: 1469, 105: 1866, 106: 2307, 107: 1423, 108: 1812, 109: 1618, 110: 1891, 111: 753, 112: 1736, 113: 2313, 114: 2001, 115: 1295, 116: 1766, 117: 2089, 118: 704, 119: 957, 120: 903, 121: 2067, 122: 1817, 123: 616, 124: 1015, 125: 602, 126: 688, 127: 1629, 128: 570, 129: 2014, 130: 1636, 131: 1896, 132: 1917, 133: 1021, 134: 554, 135: 1607, 136: 929, 137: 884, 138: 1894, 139: 2477, 140: 822, 141: 905, 142: 630, 143: 510, 144: 2468, 145: 2037, 146: 2362, 147: 2029, 148: 2372, 149: 745, 150: 1418, 151: 1931, 152: 2205, 153: 2297, 154: 1268, 155: 1711, 156: 998, 157: 1841, 158: 1619, 159: 900, 160: 1831, 161: 1257, 162: 818, 163: 2187, 164: 2287, 165: 1452, 166: 2447, 167: 2077, 168: 2473, 169: 1217, 170: 1885, 171: 1342, 172: 1744, 173: 2117, 174: 2249, 175: 568, 176: 1223, 177: 1870, 178: 2330, 179: 1488, 180: 2299, 181: 2171, 182: 1986, 183: 1560, 184: 1526, 185: 1114, 186: 1844, 187: 562, 188: 2462, 189: 759, 190: 2279, 191: 1761, 192: 2405, 193: 1229, 194: 2128, 195: 1960, 196: 891, 197: 2359, 198: 2318, 199: 1705}\n",
      " {0: 1, 1: 2, 2: 6, 3: 7, 4: 13, 5: 10, 6: 20, 7: 12, 8: 30, 9: 28, 10: 26, 11: 4, 12: 9, 13: 16, 14: 27, 15: 21, 16: 15, 17: 18, 18: 14, 19: 30, 20: 30, 21: 9, 22: 24, 23: 19, 24: 2, 25: 1, 26: 21, 27: 12, 28: 25, 29: 9, 30: 1, 31: 6, 32: 7, 33: 24, 34: 16, 35: 4, 36: 1, 37: 12, 38: 18, 39: 14, 40: 8, 41: 13, 42: 6, 43: 11, 44: 11, 45: 24, 46: 3, 47: 21, 48: 6, 49: 27, 50: 25, 51: 20, 52: 2, 53: 1, 54: 8, 55: 29, 56: 14, 57: 14, 58: 30, 59: 1, 60: 8, 61: 24, 62: 18, 63: 30, 64: 8, 65: 26, 66: 2, 67: 20, 68: 23, 69: 25, 70: 1, 71: 18, 72: 8, 73: 15, 74: 16, 75: 11, 76: 6, 77: 16, 78: 19, 79: 23, 80: 1, 81: 25, 82: 18, 83: 17, 84: 11, 85: 25, 86: 7, 87: 12, 88: 24, 89: 30, 90: 13, 91: 26, 92: 4, 93: 16, 94: 21, 95: 28, 96: 19, 97: 21, 98: 19, 99: 11, 100: 14, 101: 19, 102: 5, 103: 17, 104: 14, 105: 1, 106: 28, 107: 28, 108: 20, 109: 18, 110: 8, 111: 27, 112: 3, 113: 30, 114: 3, 115: 3, 116: 26, 117: 21, 118: 19, 119: 8, 120: 23, 121: 23, 122: 6, 123: 3, 124: 11, 125: 8, 126: 23, 127: 12, 128: 22, 129: 19, 130: 8, 131: 5, 132: 19, 133: 8, 134: 13, 135: 16, 136: 4, 137: 5, 138: 25, 139: 25, 140: 15, 141: 14, 142: 1, 143: 20, 144: 21, 145: 16, 146: 28, 147: 8, 148: 8, 149: 15, 150: 14, 151: 9, 152: 25, 153: 24, 154: 6, 155: 5, 156: 27, 157: 14, 158: 28, 159: 15, 160: 16, 161: 24, 162: 12, 163: 18, 164: 7, 165: 13, 166: 12, 167: 13, 168: 24, 169: 9, 170: 18, 171: 4, 172: 16, 173: 27, 174: 17, 175: 22, 176: 20, 177: 9, 178: 16, 179: 17, 180: 20, 181: 6, 182: 24, 183: 24, 184: 25, 185: 28, 186: 14, 187: 20, 188: 12, 189: 27, 190: 6, 191: 14, 192: 26, 193: 5, 194: 30, 195: 30, 196: 24, 197: 27, 198: 5, 199: 17}\n",
      " {0: 1, 1: 3, 2: 1, 3: 2, 4: 3, 5: 3, 6: 3, 7: 1, 8: 1, 9: 1, 10: 5, 11: 1, 12: 1, 13: 3, 14: 4, 15: 2, 16: 2, 17: 2, 18: 5, 19: 4, 20: 1, 21: 2, 22: 1, 23: 5, 24: 4, 25: 2, 26: 5, 27: 3, 28: 4, 29: 1, 30: 5, 31: 3, 32: 1, 33: 4, 34: 3, 35: 2, 36: 4, 37: 4, 38: 4, 39: 2, 40: 3, 41: 5, 42: 3, 43: 4, 44: 1, 45: 1, 46: 2, 47: 1, 48: 3, 49: 2, 50: 4, 51: 1, 52: 3, 53: 5, 54: 1, 55: 1, 56: 2, 57: 4, 58: 4, 59: 3, 60: 2, 61: 4, 62: 3, 63: 4, 64: 5, 65: 1, 66: 4, 67: 1, 68: 1, 69: 2, 70: 4, 71: 5, 72: 2, 73: 1, 74: 4, 75: 4, 76: 4, 77: 1, 78: 2, 79: 4, 80: 4, 81: 1, 82: 4, 83: 2, 84: 1, 85: 4, 86: 2, 87: 4, 88: 2, 89: 2, 90: 3, 91: 2, 92: 3, 93: 3, 94: 3, 95: 1, 96: 1, 97: 2, 98: 2, 99: 5, 100: 1, 101: 4, 102: 2, 103: 2, 104: 2, 105: 1, 106: 4, 107: 3, 108: 2, 109: 4, 110: 5, 111: 1, 112: 4, 113: 4, 114: 4, 115: 5, 116: 4, 117: 5, 118: 2, 119: 3, 120: 3, 121: 5, 122: 4, 123: 5, 124: 4, 125: 1, 126: 5, 127: 2, 128: 3, 129: 1, 130: 1, 131: 4, 132: 2, 133: 2, 134: 5, 135: 2, 136: 1, 137: 5, 138: 2, 139: 5, 140: 3, 141: 4, 142: 3, 143: 2, 144: 4, 145: 1, 146: 1, 147: 5, 148: 2, 149: 5, 150: 3, 151: 2, 152: 1, 153: 4, 154: 4, 155: 4, 156: 5, 157: 5, 158: 3, 159: 4, 160: 2, 161: 3, 162: 5, 163: 3, 164: 3, 165: 5, 166: 5, 167: 3, 168: 5, 169: 2, 170: 1, 171: 1, 172: 3, 173: 5, 174: 3, 175: 2, 176: 5, 177: 4, 178: 1, 179: 5, 180: 5, 181: 1, 182: 3, 183: 4, 184: 4, 185: 2, 186: 3, 187: 4, 188: 1, 189: 5, 190: 3, 191: 3, 192: 4, 193: 1, 194: 5, 195: 4, 196: 3, 197: 3, 198: 4, 199: 3}]\n"
     ]
    }
   ],
   "source": [
    "attr_data = np.vstack((node_size, node_age, node_numrooms)).T.flatten()\n",
    "print(attr_data)"
   ]
  },
  {
   "cell_type": "code",
   "execution_count": 271,
   "metadata": {},
   "outputs": [
    {
     "data": {
      "text/plain": [
       "array([[0., 0., 0., ..., 0., 0., 0.],\n",
       "       [0., 0., 0., ..., 0., 0., 0.],\n",
       "       [0., 0., 0., ..., 0., 0., 0.],\n",
       "       ...,\n",
       "       [0., 0., 0., ..., 0., 0., 0.],\n",
       "       [0., 0., 0., ..., 0., 0., 0.],\n",
       "       [0., 0., 0., ..., 0., 0., 0.]])"
      ]
     },
     "execution_count": 271,
     "metadata": {},
     "output_type": "execute_result"
    }
   ],
   "source": [
    "attr_data = csr_matrix(attr_data)"
   ]
  },
  {
   "cell_type": "code",
   "execution_count": 255,
   "metadata": {},
   "outputs": [
    {
     "name": "stdout",
     "output_type": "stream",
     "text": [
      "200\n",
      "[  0.   3.   6.   9.  12.  15.  18.  21.  24.  27.  30.  33.  36.  39.\n",
      "  42.  45.  48.  51.  54.  57.  60.  63.  66.  69.  72.  75.  78.  81.\n",
      "  84.  87.  90.  93.  96.  99. 102. 105. 108. 111. 114. 117. 120. 123.\n",
      " 126. 129. 132. 135. 138. 141. 144. 147. 150. 153. 156. 159. 162. 165.\n",
      " 168. 171. 174. 177. 180. 183. 186. 189. 192. 195. 198. 201. 204. 207.\n",
      " 210. 213. 216. 219. 222. 225. 228. 231. 234. 237. 240. 243. 246. 249.\n",
      " 252. 255. 258. 261. 264. 267. 270. 273. 276. 279. 282. 285. 288. 291.\n",
      " 294. 297. 300. 303. 306. 309. 312. 315. 318. 321. 324. 327. 330. 333.\n",
      " 336. 339. 342. 345. 348. 351. 354. 357. 360. 363. 366. 369. 372. 375.\n",
      " 378. 381. 384. 387. 390. 393. 396. 399. 402. 405. 408. 411. 414. 417.\n",
      " 420. 423. 426. 429. 432. 435. 438. 441. 444. 447. 450. 453. 456. 459.\n",
      " 462. 465. 468. 471. 474. 477. 480. 483. 486. 489. 492. 495. 498. 501.\n",
      " 504. 507. 510. 513. 516. 519. 522. 525. 528. 531. 534. 537. 540. 543.\n",
      " 546. 549. 552. 555. 558. 561. 564. 567. 570. 573. 576. 579. 582. 585.\n",
      " 588. 591. 594. 597. 600.]\n"
     ]
    }
   ],
   "source": [
    "# attr_data = np.concatenate((sizes, ages, num_rooms))\n",
    "attr_indices = np.arange(len(attr_data))\n",
    "\n",
    "n_nodes = len(G.nodes())\n",
    "print(n_nodes)\n",
    "n_attr = 3\n",
    "n_nonzero = n_nodes * n_attr\n",
    "\n",
    "attr_indptr = np.empty(n_nodes + 1)  # nbr_of_rows = 134,464 = len(data)\n",
    "attr_indptr[0] = 0\n",
    "for i in range(1, len(attr_indptr)):\n",
    "    attr_indptr[i] = attr_indptr[i-1] + 3\n",
    "\n",
    "\n",
    "attr_shape = (len(G.nodes()), 3)  # attr_shape = (Amount of nodes, amount of features)\n",
    "\n",
    "print(attr_indptr)"
   ]
  },
  {
   "cell_type": "code",
   "execution_count": 256,
   "metadata": {},
   "outputs": [
    {
     "data": {
      "text/plain": [
       "array([0, 1, 2])"
      ]
     },
     "execution_count": 256,
     "metadata": {},
     "output_type": "execute_result"
    }
   ],
   "source": [
    "attr_indices"
   ]
  },
  {
   "cell_type": "code",
   "execution_count": 260,
   "metadata": {},
   "outputs": [
    {
     "data": {
      "text/plain": [
       "(200, 3)"
      ]
     },
     "execution_count": 260,
     "metadata": {},
     "output_type": "execute_result"
    }
   ],
   "source": [
    "attr_shape"
   ]
  },
  {
   "cell_type": "code",
   "execution_count": 258,
   "metadata": {},
   "outputs": [
    {
     "ename": "ValueError",
     "evalue": "Last value of index pointer should be less than the size of index and data arrays",
     "output_type": "error",
     "traceback": [
      "\u001b[1;31m---------------------------------------------------------------------------\u001b[0m",
      "\u001b[1;31mValueError\u001b[0m                                Traceback (most recent call last)",
      "\u001b[1;32m<ipython-input-258-aa3292eb2c52>\u001b[0m in \u001b[0;36m<module>\u001b[1;34m\u001b[0m\n\u001b[1;32m----> 1\u001b[1;33m \u001b[0mattr_matrix\u001b[0m \u001b[1;33m=\u001b[0m \u001b[0mcsr_matrix\u001b[0m\u001b[1;33m(\u001b[0m\u001b[1;33m(\u001b[0m\u001b[0mattr_data\u001b[0m\u001b[1;33m,\u001b[0m \u001b[0mattr_indices\u001b[0m\u001b[1;33m,\u001b[0m \u001b[0mattr_indptr\u001b[0m\u001b[1;33m)\u001b[0m\u001b[1;33m,\u001b[0m \u001b[0mshape\u001b[0m\u001b[1;33m=\u001b[0m\u001b[0mattr_shape\u001b[0m\u001b[1;33m)\u001b[0m\u001b[1;33m\u001b[0m\u001b[1;33m\u001b[0m\u001b[0m\n\u001b[0m",
      "\u001b[1;32mc:\\Users\\nino\\anaconda4\\envs\\myenv\\lib\\site-packages\\scipy\\sparse\\compressed.py\u001b[0m in \u001b[0;36m__init__\u001b[1;34m(self, arg1, shape, dtype, copy)\u001b[0m\n\u001b[0;32m    103\u001b[0m             \u001b[0mself\u001b[0m\u001b[1;33m.\u001b[0m\u001b[0mdata\u001b[0m \u001b[1;33m=\u001b[0m \u001b[0mself\u001b[0m\u001b[1;33m.\u001b[0m\u001b[0mdata\u001b[0m\u001b[1;33m.\u001b[0m\u001b[0mastype\u001b[0m\u001b[1;33m(\u001b[0m\u001b[0mdtype\u001b[0m\u001b[1;33m,\u001b[0m \u001b[0mcopy\u001b[0m\u001b[1;33m=\u001b[0m\u001b[1;32mFalse\u001b[0m\u001b[1;33m)\u001b[0m\u001b[1;33m\u001b[0m\u001b[1;33m\u001b[0m\u001b[0m\n\u001b[0;32m    104\u001b[0m \u001b[1;33m\u001b[0m\u001b[0m\n\u001b[1;32m--> 105\u001b[1;33m         \u001b[0mself\u001b[0m\u001b[1;33m.\u001b[0m\u001b[0mcheck_format\u001b[0m\u001b[1;33m(\u001b[0m\u001b[0mfull_check\u001b[0m\u001b[1;33m=\u001b[0m\u001b[1;32mFalse\u001b[0m\u001b[1;33m)\u001b[0m\u001b[1;33m\u001b[0m\u001b[1;33m\u001b[0m\u001b[0m\n\u001b[0m\u001b[0;32m    106\u001b[0m \u001b[1;33m\u001b[0m\u001b[0m\n\u001b[0;32m    107\u001b[0m     \u001b[1;32mdef\u001b[0m \u001b[0mgetnnz\u001b[0m\u001b[1;33m(\u001b[0m\u001b[0mself\u001b[0m\u001b[1;33m,\u001b[0m \u001b[0maxis\u001b[0m\u001b[1;33m=\u001b[0m\u001b[1;32mNone\u001b[0m\u001b[1;33m)\u001b[0m\u001b[1;33m:\u001b[0m\u001b[1;33m\u001b[0m\u001b[1;33m\u001b[0m\u001b[0m\n",
      "\u001b[1;32mc:\\Users\\nino\\anaconda4\\envs\\myenv\\lib\\site-packages\\scipy\\sparse\\compressed.py\u001b[0m in \u001b[0;36mcheck_format\u001b[1;34m(self, full_check)\u001b[0m\n\u001b[0;32m    175\u001b[0m             \u001b[1;32mraise\u001b[0m \u001b[0mValueError\u001b[0m\u001b[1;33m(\u001b[0m\u001b[1;34m\"indices and data should have the same size\"\u001b[0m\u001b[1;33m)\u001b[0m\u001b[1;33m\u001b[0m\u001b[1;33m\u001b[0m\u001b[0m\n\u001b[0;32m    176\u001b[0m         \u001b[1;32mif\u001b[0m \u001b[1;33m(\u001b[0m\u001b[0mself\u001b[0m\u001b[1;33m.\u001b[0m\u001b[0mindptr\u001b[0m\u001b[1;33m[\u001b[0m\u001b[1;33m-\u001b[0m\u001b[1;36m1\u001b[0m\u001b[1;33m]\u001b[0m \u001b[1;33m>\u001b[0m \u001b[0mlen\u001b[0m\u001b[1;33m(\u001b[0m\u001b[0mself\u001b[0m\u001b[1;33m.\u001b[0m\u001b[0mindices\u001b[0m\u001b[1;33m)\u001b[0m\u001b[1;33m)\u001b[0m\u001b[1;33m:\u001b[0m\u001b[1;33m\u001b[0m\u001b[1;33m\u001b[0m\u001b[0m\n\u001b[1;32m--> 177\u001b[1;33m             raise ValueError(\"Last value of index pointer should be less than \"\n\u001b[0m\u001b[0;32m    178\u001b[0m                              \"the size of index and data arrays\")\n\u001b[0;32m    179\u001b[0m \u001b[1;33m\u001b[0m\u001b[0m\n",
      "\u001b[1;31mValueError\u001b[0m: Last value of index pointer should be less than the size of index and data arrays"
     ]
    }
   ],
   "source": [
    "attr_matrix = csr_matrix((attr_data, attr_indices, attr_indptr), shape=attr_shape)"
   ]
  },
  {
   "cell_type": "code",
   "execution_count": 259,
   "metadata": {},
   "outputs": [
    {
     "name": "stdout",
     "output_type": "stream",
     "text": [
      "(<193x193 sparse matrix of type '<class 'numpy.float64'>'\n",
      "\twith 1169 stored elements in List of Lists format>, [1539, 1540, 1541, 1543, 1035, 1554, 1042, 1043, 1048, 538, 2075, 2077, 542, 2079, 1568, 545, 1571, 1061, 1577, 1077, 1078, 1590, 2103, 1086, 1090, 1602, 1092, 580, 2114, 1610, 1611, 1613, 2126, 603, 1628, 606, 607, 2142, 1120, 2146, 1635, 2147, 1126, 1641, 619, 625, 1650, 626, 2163, 1143, 2169, 1660, 636, 1662, 2175, 1669, 1160, 659, 1685, 1686, 2199, 1688, 2201, 2202, 668, 1694, 673, 2215, 1706, 2220, 1708, 1711, 1199, 1718, 696, 1720, 1211, 1216, 1731, 1735, 1225, 1740, 2254, 722, 1235, 723, 1752, 1242, 2272, 2273, 1250, 1764, 756, 1270, 2296, 1784, 2298, 1789, 767, 1281, 774, 1804, 1805, 2317, 2321, 2322, 1815, 2329, 1307, 1819, 2333, 2331, 1308, 1824, 1314, 802, 806, 1831, 1323, 2352, 1846, 825, 1853, 836, 1349, 1350, 1353, 1354, 1865, 844, 847, 1872, 1871, 1877, 2389, 855, 857, 1370, 1372, 2396, 863, 1381, 1896, 1897, 874, 1386, 2412, 877, 878, 1902, 1403, 2428, 891, 1408, 1924, 1413, 2437, 910, 2450, 916, 1941, 1431, 1944, 919, 921, 1435, 1438, 1952, 929, 1443, 1446, 1448, 1451, 1454, 1457, 1970, 2482, 1978, 2492, 957, 2002, 1497, 987, 1507, 2020, 995, 2030, 1007, 1524, 1527, 504, 1531, 1021])\n"
     ]
    },
    {
     "ename": "AttributeError",
     "evalue": "'tuple' object has no attribute 'indices'",
     "output_type": "error",
     "traceback": [
      "\u001b[1;31m---------------------------------------------------------------------------\u001b[0m",
      "\u001b[1;31mAttributeError\u001b[0m                            Traceback (most recent call last)",
      "\u001b[1;32m<ipython-input-259-9ec04741ba43>\u001b[0m in \u001b[0;36m<module>\u001b[1;34m\u001b[0m\n\u001b[0;32m      1\u001b[0m \u001b[0mprint\u001b[0m\u001b[1;33m(\u001b[0m\u001b[0mattr_matrix\u001b[0m\u001b[1;33m)\u001b[0m\u001b[1;33m\u001b[0m\u001b[1;33m\u001b[0m\u001b[0m\n\u001b[1;32m----> 2\u001b[1;33m \u001b[0mprint\u001b[0m\u001b[1;33m(\u001b[0m\u001b[0mattr_matrix\u001b[0m\u001b[1;33m.\u001b[0m\u001b[0mindices\u001b[0m\u001b[1;33m)\u001b[0m\u001b[1;33m\u001b[0m\u001b[1;33m\u001b[0m\u001b[0m\n\u001b[0m\u001b[0;32m      3\u001b[0m \u001b[0mprint\u001b[0m\u001b[1;33m(\u001b[0m\u001b[0mattr_matrix\u001b[0m\u001b[1;33m.\u001b[0m\u001b[0mindptr\u001b[0m\u001b[1;33m)\u001b[0m\u001b[1;33m\u001b[0m\u001b[1;33m\u001b[0m\u001b[0m\n\u001b[0;32m      4\u001b[0m \u001b[0mprint\u001b[0m\u001b[1;33m(\u001b[0m\u001b[0mattr_matrix\u001b[0m\u001b[1;33m.\u001b[0m\u001b[0mshape\u001b[0m\u001b[1;33m)\u001b[0m\u001b[1;33m\u001b[0m\u001b[1;33m\u001b[0m\u001b[0m\n",
      "\u001b[1;31mAttributeError\u001b[0m: 'tuple' object has no attribute 'indices'"
     ]
    }
   ],
   "source": [
    "print(attr_matrix)\n",
    "print(attr_matrix.indices)\n",
    "print(attr_matrix.indptr)\n",
    "print(attr_matrix.shape)"
   ]
  },
  {
   "cell_type": "code",
   "execution_count": 141,
   "metadata": {},
   "outputs": [],
   "source": [
    "# There are four nodes, hence why we create four labels.\n",
    "n_nodes = len(G.nodes())\n",
    "labels = np.arange(n_nodes)"
   ]
  },
  {
   "cell_type": "code",
   "execution_count": 142,
   "metadata": {},
   "outputs": [],
   "source": [
    "np.savez('data/cora_ml/test.npz', adj_data=A.data, adj_indices=A.indices, adj_indptr=A.indptr,\n",
    "         adj_shape=A.shape, attr_data=attr_matrix.data, attr_indices=attr_matrix.indices, attr_indptr=attr_matrix.indptr,\n",
    "         attr_shape=attr_matrix.shape, labels=labels)"
   ]
  },
  {
   "cell_type": "code",
   "execution_count": 143,
   "metadata": {},
   "outputs": [
    {
     "name": "stdout",
     "output_type": "stream",
     "text": [
      "adj_data\n",
      "(1186,)\n",
      "adj_indices\n",
      "(1186,)\n",
      "adj_indptr\n",
      "(201,)\n",
      "adj_shape\n",
      "(2,)\n",
      "attr_data\n",
      "(600,)\n",
      "attr_indices\n",
      "(600,)\n",
      "attr_indptr\n",
      "(2,)\n",
      "attr_shape\n",
      "(2,)\n",
      "labels\n",
      "(200,)\n"
     ]
    }
   ],
   "source": [
    "test = np.load('data/cora_ml/test.npz')\n",
    "for k in test.files:\n",
    "    print(k)\n",
    "    print(test[k].shape)"
   ]
  },
  {
   "cell_type": "code",
   "execution_count": 110,
   "metadata": {},
   "outputs": [
    {
     "name": "stdout",
     "output_type": "stream",
     "text": [
      "adj_data\n",
      "(7574,)\n",
      "adj_indices\n",
      "(7574,)\n",
      "adj_indptr\n",
      "(2996,)\n",
      "adj_shape\n",
      "(2,)\n",
      "attr_data\n",
      "(151171,)\n",
      "attr_indices\n",
      "(151171,)\n",
      "attr_indptr\n",
      "(2996,)\n",
      "attr_shape\n",
      "(2,)\n",
      "labels\n",
      "(2995,)\n",
      "val_edges\n",
      "(1684, 2)\n",
      "val_ground_truth\n",
      "(1684,)\n",
      "test_edges\n",
      "(1684, 2)\n",
      "test_ground_truth\n",
      "(1684,)\n"
     ]
    }
   ],
   "source": [
    "for k in coraml.files:\n",
    "    print(k)\n",
    "    print(coraml[k].shape)"
   ]
  },
  {
   "attachments": {},
   "cell_type": "markdown",
   "metadata": {},
   "source": [
    "## CSV TO ATTRIBUTE MATRIX"
   ]
  },
  {
   "cell_type": "code",
   "execution_count": 280,
   "metadata": {},
   "outputs": [],
   "source": [
    "import pandas as pd\n",
    "df = pd.read_csv('data/cora_ml/dummydata.csv', delimiter=\";\")"
   ]
  },
  {
   "cell_type": "code",
   "execution_count": 281,
   "metadata": {},
   "outputs": [
    {
     "data": {
      "text/html": [
       "<div>\n",
       "<style scoped>\n",
       "    .dataframe tbody tr th:only-of-type {\n",
       "        vertical-align: middle;\n",
       "    }\n",
       "\n",
       "    .dataframe tbody tr th {\n",
       "        vertical-align: top;\n",
       "    }\n",
       "\n",
       "    .dataframe thead th {\n",
       "        text-align: right;\n",
       "    }\n",
       "</style>\n",
       "<table border=\"1\" class=\"dataframe\">\n",
       "  <thead>\n",
       "    <tr style=\"text-align: right;\">\n",
       "      <th></th>\n",
       "      <th>id</th>\n",
       "      <th>latitude</th>\n",
       "      <th>longitude</th>\n",
       "      <th>age</th>\n",
       "      <th>size</th>\n",
       "      <th>nrooms</th>\n",
       "      <th>labels</th>\n",
       "    </tr>\n",
       "  </thead>\n",
       "  <tbody>\n",
       "    <tr>\n",
       "      <th>0</th>\n",
       "      <td>0</td>\n",
       "      <td>100</td>\n",
       "      <td>200</td>\n",
       "      <td>1</td>\n",
       "      <td>100</td>\n",
       "      <td>22</td>\n",
       "      <td>1</td>\n",
       "    </tr>\n",
       "    <tr>\n",
       "      <th>1</th>\n",
       "      <td>1</td>\n",
       "      <td>50</td>\n",
       "      <td>23</td>\n",
       "      <td>2</td>\n",
       "      <td>101</td>\n",
       "      <td>23</td>\n",
       "      <td>1</td>\n",
       "    </tr>\n",
       "    <tr>\n",
       "      <th>2</th>\n",
       "      <td>2</td>\n",
       "      <td>25</td>\n",
       "      <td>43</td>\n",
       "      <td>3</td>\n",
       "      <td>102</td>\n",
       "      <td>24</td>\n",
       "      <td>1</td>\n",
       "    </tr>\n",
       "    <tr>\n",
       "      <th>3</th>\n",
       "      <td>3</td>\n",
       "      <td>30</td>\n",
       "      <td>600</td>\n",
       "      <td>4</td>\n",
       "      <td>103</td>\n",
       "      <td>25</td>\n",
       "      <td>1</td>\n",
       "    </tr>\n",
       "    <tr>\n",
       "      <th>4</th>\n",
       "      <td>4</td>\n",
       "      <td>10</td>\n",
       "      <td>4534</td>\n",
       "      <td>5</td>\n",
       "      <td>104</td>\n",
       "      <td>26</td>\n",
       "      <td>1</td>\n",
       "    </tr>\n",
       "  </tbody>\n",
       "</table>\n",
       "</div>"
      ],
      "text/plain": [
       "   id  latitude  longitude  age  size  nrooms  labels\n",
       "0   0       100        200    1   100      22       1\n",
       "1   1        50         23    2   101      23       1\n",
       "2   2        25         43    3   102      24       1\n",
       "3   3        30        600    4   103      25       1\n",
       "4   4        10       4534    5   104      26       1"
      ]
     },
     "execution_count": 281,
     "metadata": {},
     "output_type": "execute_result"
    }
   ],
   "source": [
    "df.head()"
   ]
  },
  {
   "cell_type": "code",
   "execution_count": 286,
   "metadata": {},
   "outputs": [
    {
     "data": {
      "text/html": [
       "<div>\n",
       "<style scoped>\n",
       "    .dataframe tbody tr th:only-of-type {\n",
       "        vertical-align: middle;\n",
       "    }\n",
       "\n",
       "    .dataframe tbody tr th {\n",
       "        vertical-align: top;\n",
       "    }\n",
       "\n",
       "    .dataframe thead th {\n",
       "        text-align: right;\n",
       "    }\n",
       "</style>\n",
       "<table border=\"1\" class=\"dataframe\">\n",
       "  <thead>\n",
       "    <tr style=\"text-align: right;\">\n",
       "      <th></th>\n",
       "      <th>id</th>\n",
       "      <th>latitude</th>\n",
       "      <th>longitude</th>\n",
       "      <th>age</th>\n",
       "      <th>size</th>\n",
       "      <th>nrooms</th>\n",
       "      <th>labels</th>\n",
       "    </tr>\n",
       "  </thead>\n",
       "  <tbody>\n",
       "    <tr>\n",
       "      <th>0</th>\n",
       "      <td>0</td>\n",
       "      <td>100</td>\n",
       "      <td>200</td>\n",
       "      <td>1</td>\n",
       "      <td>100</td>\n",
       "      <td>22</td>\n",
       "      <td>1</td>\n",
       "    </tr>\n",
       "    <tr>\n",
       "      <th>1</th>\n",
       "      <td>1</td>\n",
       "      <td>50</td>\n",
       "      <td>23</td>\n",
       "      <td>2</td>\n",
       "      <td>101</td>\n",
       "      <td>23</td>\n",
       "      <td>1</td>\n",
       "    </tr>\n",
       "    <tr>\n",
       "      <th>2</th>\n",
       "      <td>2</td>\n",
       "      <td>25</td>\n",
       "      <td>43</td>\n",
       "      <td>3</td>\n",
       "      <td>102</td>\n",
       "      <td>24</td>\n",
       "      <td>1</td>\n",
       "    </tr>\n",
       "    <tr>\n",
       "      <th>3</th>\n",
       "      <td>3</td>\n",
       "      <td>30</td>\n",
       "      <td>600</td>\n",
       "      <td>4</td>\n",
       "      <td>103</td>\n",
       "      <td>25</td>\n",
       "      <td>1</td>\n",
       "    </tr>\n",
       "    <tr>\n",
       "      <th>4</th>\n",
       "      <td>4</td>\n",
       "      <td>10</td>\n",
       "      <td>4534</td>\n",
       "      <td>5</td>\n",
       "      <td>104</td>\n",
       "      <td>26</td>\n",
       "      <td>1</td>\n",
       "    </tr>\n",
       "    <tr>\n",
       "      <th>5</th>\n",
       "      <td>5</td>\n",
       "      <td>1</td>\n",
       "      <td>343</td>\n",
       "      <td>6</td>\n",
       "      <td>105</td>\n",
       "      <td>27</td>\n",
       "      <td>1</td>\n",
       "    </tr>\n",
       "    <tr>\n",
       "      <th>6</th>\n",
       "      <td>6</td>\n",
       "      <td>98</td>\n",
       "      <td>42</td>\n",
       "      <td>7</td>\n",
       "      <td>106</td>\n",
       "      <td>28</td>\n",
       "      <td>1</td>\n",
       "    </tr>\n",
       "    <tr>\n",
       "      <th>7</th>\n",
       "      <td>7</td>\n",
       "      <td>989</td>\n",
       "      <td>32</td>\n",
       "      <td>8</td>\n",
       "      <td>107</td>\n",
       "      <td>29</td>\n",
       "      <td>1</td>\n",
       "    </tr>\n",
       "    <tr>\n",
       "      <th>8</th>\n",
       "      <td>8</td>\n",
       "      <td>4</td>\n",
       "      <td>22</td>\n",
       "      <td>9</td>\n",
       "      <td>108</td>\n",
       "      <td>30</td>\n",
       "      <td>1</td>\n",
       "    </tr>\n",
       "    <tr>\n",
       "      <th>9</th>\n",
       "      <td>9</td>\n",
       "      <td>1021</td>\n",
       "      <td>200</td>\n",
       "      <td>10</td>\n",
       "      <td>109</td>\n",
       "      <td>31</td>\n",
       "      <td>1</td>\n",
       "    </tr>\n",
       "    <tr>\n",
       "      <th>10</th>\n",
       "      <td>10</td>\n",
       "      <td>1022</td>\n",
       "      <td>200</td>\n",
       "      <td>11</td>\n",
       "      <td>110</td>\n",
       "      <td>32</td>\n",
       "      <td>1</td>\n",
       "    </tr>\n",
       "    <tr>\n",
       "      <th>11</th>\n",
       "      <td>11</td>\n",
       "      <td>1023</td>\n",
       "      <td>200</td>\n",
       "      <td>0</td>\n",
       "      <td>111</td>\n",
       "      <td>33</td>\n",
       "      <td>1</td>\n",
       "    </tr>\n",
       "    <tr>\n",
       "      <th>12</th>\n",
       "      <td>12</td>\n",
       "      <td>1024</td>\n",
       "      <td>200</td>\n",
       "      <td>13</td>\n",
       "      <td>112</td>\n",
       "      <td>34</td>\n",
       "      <td>1</td>\n",
       "    </tr>\n",
       "    <tr>\n",
       "      <th>13</th>\n",
       "      <td>13</td>\n",
       "      <td>1025</td>\n",
       "      <td>200</td>\n",
       "      <td>14</td>\n",
       "      <td>113</td>\n",
       "      <td>35</td>\n",
       "      <td>1</td>\n",
       "    </tr>\n",
       "    <tr>\n",
       "      <th>14</th>\n",
       "      <td>14</td>\n",
       "      <td>1026</td>\n",
       "      <td>200</td>\n",
       "      <td>15</td>\n",
       "      <td>114</td>\n",
       "      <td>36</td>\n",
       "      <td>1</td>\n",
       "    </tr>\n",
       "    <tr>\n",
       "      <th>15</th>\n",
       "      <td>15</td>\n",
       "      <td>1027</td>\n",
       "      <td>200</td>\n",
       "      <td>16</td>\n",
       "      <td>115</td>\n",
       "      <td>37</td>\n",
       "      <td>1</td>\n",
       "    </tr>\n",
       "    <tr>\n",
       "      <th>16</th>\n",
       "      <td>16</td>\n",
       "      <td>1028</td>\n",
       "      <td>200</td>\n",
       "      <td>0</td>\n",
       "      <td>116</td>\n",
       "      <td>38</td>\n",
       "      <td>1</td>\n",
       "    </tr>\n",
       "    <tr>\n",
       "      <th>17</th>\n",
       "      <td>17</td>\n",
       "      <td>1029</td>\n",
       "      <td>200</td>\n",
       "      <td>18</td>\n",
       "      <td>117</td>\n",
       "      <td>39</td>\n",
       "      <td>1</td>\n",
       "    </tr>\n",
       "    <tr>\n",
       "      <th>18</th>\n",
       "      <td>18</td>\n",
       "      <td>1030</td>\n",
       "      <td>200</td>\n",
       "      <td>19</td>\n",
       "      <td>0</td>\n",
       "      <td>40</td>\n",
       "      <td>1</td>\n",
       "    </tr>\n",
       "    <tr>\n",
       "      <th>19</th>\n",
       "      <td>19</td>\n",
       "      <td>1031</td>\n",
       "      <td>200</td>\n",
       "      <td>20</td>\n",
       "      <td>119</td>\n",
       "      <td>41</td>\n",
       "      <td>1</td>\n",
       "    </tr>\n",
       "  </tbody>\n",
       "</table>\n",
       "</div>"
      ],
      "text/plain": [
       "    id  latitude  longitude  age  size  nrooms  labels\n",
       "0    0       100        200    1   100      22       1\n",
       "1    1        50         23    2   101      23       1\n",
       "2    2        25         43    3   102      24       1\n",
       "3    3        30        600    4   103      25       1\n",
       "4    4        10       4534    5   104      26       1\n",
       "5    5         1        343    6   105      27       1\n",
       "6    6        98         42    7   106      28       1\n",
       "7    7       989         32    8   107      29       1\n",
       "8    8         4         22    9   108      30       1\n",
       "9    9      1021        200   10   109      31       1\n",
       "10  10      1022        200   11   110      32       1\n",
       "11  11      1023        200    0   111      33       1\n",
       "12  12      1024        200   13   112      34       1\n",
       "13  13      1025        200   14   113      35       1\n",
       "14  14      1026        200   15   114      36       1\n",
       "15  15      1027        200   16   115      37       1\n",
       "16  16      1028        200    0   116      38       1\n",
       "17  17      1029        200   18   117      39       1\n",
       "18  18      1030        200   19     0      40       1\n",
       "19  19      1031        200   20   119      41       1"
      ]
     },
     "execution_count": 286,
     "metadata": {},
     "output_type": "execute_result"
    }
   ],
   "source": [
    "df_subset = df.iloc[0:20, :]\n",
    "df_subset"
   ]
  },
  {
   "cell_type": "code",
   "execution_count": 289,
   "metadata": {},
   "outputs": [],
   "source": [
    "df_subset_numpy = df_subset.to_numpy()"
   ]
  },
  {
   "cell_type": "code",
   "execution_count": 290,
   "metadata": {},
   "outputs": [],
   "source": [
    "attr_matrix = csr_matrix(df_subset_numpy)"
   ]
  },
  {
   "cell_type": "code",
   "execution_count": 291,
   "metadata": {},
   "outputs": [
    {
     "data": {
      "text/plain": [
       "array([  0,   6,  13,  20,  27,  34,  41,  48,  55,  62,  69,  76,  82,\n",
       "        89,  96, 103, 110, 116, 123, 129, 136], dtype=int32)"
      ]
     },
     "execution_count": 291,
     "metadata": {},
     "output_type": "execute_result"
    }
   ],
   "source": [
    "attr_matrix.indptr"
   ]
  },
  {
   "cell_type": "code",
   "execution_count": null,
   "metadata": {},
   "outputs": [],
   "source": []
  }
 ],
 "metadata": {
  "kernelspec": {
   "display_name": "gsne",
   "language": "python",
   "name": "python3"
  },
  "language_info": {
   "codemirror_mode": {
    "name": "ipython",
    "version": 3
   },
   "file_extension": ".py",
   "mimetype": "text/x-python",
   "name": "python",
   "nbconvert_exporter": "python",
   "pygments_lexer": "ipython3",
   "version": "3.6.13"
  },
  "orig_nbformat": 4,
  "vscode": {
   "interpreter": {
    "hash": "567cf046fb0d9cd9ff8774ae252bc96c1b5d4e6f6ca722cb76f70a27d94003d7"
   }
  }
 },
 "nbformat": 4,
 "nbformat_minor": 2
}
